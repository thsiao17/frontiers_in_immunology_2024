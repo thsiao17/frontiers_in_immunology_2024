{
 "cells": [
  {
   "cell_type": "markdown",
   "id": "e898e099-67cc-4ee3-ac9e-efc42470628f",
   "metadata": {},
   "source": [
    "## Query the MySQL database and save data for each patient individually as pickle files.\n",
    "This script queries the mysql database and downloads the ImmuneDB tables and saves them locally as pickle files.\n",
    "For the sequences, clones, clone_stats, and selection_pressure tables, the tables are downloaded for each subject individually.\n",
    "The file name of the table will have the subject_id at the front. For example, subject_id 1 will have a clones_table named 1_clones_table.pkl.\n",
    "\n",
    "Note: you must define the save paths and create the folders on your system before running the script.\n",
    "Scroll down and update the paths to save the pickle files where you want them to be saved.\n",
    "\n",
    "Also, this script connects to a remote machine via ssh. If you don't need to do that, you can remove the ssh part.\n",
    "\n",
    "ImmuneDB was used to process and annotate the raw sequencing data. For more info visit: https://immunedb.readthedocs.io/en/latest/\n"
   ]
  },
  {
   "cell_type": "code",
   "execution_count": null,
   "id": "6866ec0a-fc5b-4305-8f7e-256eedf96242",
   "metadata": {},
   "outputs": [],
   "source": [
    "import json\n",
    "from sqlalchemy import create_engine\n",
    "import pandas as pd\n",
    "from sshtunnel import SSHTunnelForwarder"
   ]
  },
  {
   "cell_type": "markdown",
   "id": "b4e1d578-716a-4de3-aa8e-eec49da05a13",
   "metadata": {},
   "source": [
    "### The cell below will connect to the MySQL database via SSH"
   ]
  },
  {
   "cell_type": "code",
   "execution_count": null,
   "id": "1655e3a7-cd11-45f8-bc36-fc365128d5ce",
   "metadata": {},
   "outputs": [],
   "source": [
    "# ssh variables\n",
    "host = 'XXX.XX.XXX.XX' #IP of the machine hosting the database.\n",
    "localhost = '127.0.0.1' #Your local machine's IP. Probably don't have to change this.\n",
    "ssh_username = 'username' #Your ssh username\n",
    "ssh_password = 'ssh_password'\n",
    "port = 22 #ssh port. Probably won't have to change this but if you can't connect via ssh you may have to change this.\n",
    "\n",
    "\n",
    "# mysql database variables\n",
    "user='user' #username for the mysql database.\n",
    "password='password' #password for the database.\n",
    "database='database_name' #name of the database.\n",
    "\n",
    "server = SSHTunnelForwarder(\n",
    "    (host, port),\n",
    "    ssh_username=ssh_username,\n",
    "    ssh_password=ssh_password,\n",
    "    remote_bind_address=(localhost, 3306) #This is the default port. You may have to change this if you have issues connecting.\n",
    "    )\n",
    "\n",
    "server.start()\n",
    "local_port = str(server.local_bind_port)\n",
    "connect_string = 'mysql+pymysql://{}:{}@{}:{}/{}'.format(user, password, localhost, local_port, database)\n",
    "sql_engine = create_engine(connect_string)"
   ]
  },
  {
   "cell_type": "markdown",
   "id": "ab1422f9-bc77-4a9a-9902-b06c992ed299",
   "metadata": {},
   "source": [
    "### Save the following tables:\n",
    "#### ['subjects', 'sequence_collapse', 'sample_metadata', 'sample_stats', 'samples', 'studies']"
   ]
  },
  {
   "cell_type": "code",
   "execution_count": null,
   "id": "06df773e-274b-4b5d-a939-06bf5e96c2b5",
   "metadata": {},
   "outputs": [],
   "source": [
    "for table in ['subjects', 'sequence_collapse', 'sample_metadata', 'sample_stats', 'samples', 'studies']:\n",
    "    query = \"select * from {}\".format(table)\n",
    "    result = pd.read_sql_query(query, sql_engine)\n",
    "    result.to_pickle(r\"/path_to_lp16_data_folder/{}.pkl\").format(table)\n",
    "\n",
    "    #Make a dictionary containing the id:patient_name for each patient using the subjects table, \n",
    "    #which will be used to download patient-specific data\n",
    "    if table == 'subjects':\n",
    "        \n",
    "        def make_subject_key_dict(subjects_table):\n",
    "            result = {}\n",
    "            for subject_id, subject_name in zip(subjects_table['id'], subjects_table['identifier']):\n",
    "                result[subject_id] = subject_name     \n",
    "            return result     \n",
    "        subjects_dict = make_subject_key_dict(result)               "
   ]
  },
  {
   "cell_type": "markdown",
   "id": "edc2794d-6935-4aa1-824a-ce1fb0837e39",
   "metadata": {},
   "source": [
    "### Save individual patient data"
   ]
  },
  {
   "cell_type": "markdown",
   "id": "122054ae-9cf7-4c72-8c65-175af525ca82",
   "metadata": {},
   "source": [
    "### clones_table\n",
    "    "
   ]
  },
  {
   "cell_type": "markdown",
   "id": "80f25bbc-0203-4101-a66e-670800577f55",
   "metadata": {},
   "source": [
    "for subject_id in subjects_dict.keys():  \n",
    "    print(\"Saving clones_table for id: \", subjects_dict[subject_id] + \"...\")\n",
    "    \n",
    "    query = \"select * from clones where subject_id = {}\".format(subject_id)\n",
    "    result = pd.read_sql_query(query, sql_engine)\n",
    "    result.to_pickle(r\"/path_to_lp16_data_folder/clones_table/{}_clones_table.pkl\".format(subject_id))"
   ]
  },
  {
   "cell_type": "markdown",
   "id": "50889da4-b84b-49e2-8f15-fefe34c65661",
   "metadata": {},
   "source": [
    "### sequences_table"
   ]
  },
  {
   "cell_type": "code",
   "execution_count": null,
   "id": "d3d93e19-f7e3-4262-bc0c-220d0349b431",
   "metadata": {},
   "outputs": [],
   "source": [
    "for subject_id in subjects_dict.keys():\n",
    "    print(\"Saving sequences_table for id: \", subjects_dict[subject_id] + \"...\")\n",
    "        \n",
    "    query = \"select * from sequences where subject_id = {} and clone_id IS NOT NULL\".format(subject_id)\n",
    "    result = pd.read_sql_query(query, sql_engine)\n",
    "    result.to_pickle(r\"/path_to_lp16_data_folder/sequences_table/{}_sequences_table.pkl\".format(subject_id))"
   ]
  },
  {
   "cell_type": "markdown",
   "id": "891a92cb-da70-4232-b978-f1cdebd59b76",
   "metadata": {},
   "source": [
    "### clone_stats"
   ]
  },
  {
   "cell_type": "code",
   "execution_count": null,
   "id": "ddcfbeeb-e1f0-4eed-82bd-e501bac2547d",
   "metadata": {},
   "outputs": [],
   "source": [
    "for subject_id in subjects_dict.keys():\n",
    "    print(\"Saving clone_stats for id: \", subjects_dict[subject_id] + \"...\")\n",
    "        \n",
    "    query = \"select * from clone_stats where subject_id = {} and id IS NOT NULL\".format(subject_id)\n",
    "    result = pd.read_sql_query(query, sql_engine)\n",
    "    result.to_pickle(r\"/path_to_lp16_data_folder/clone_stats/{}_clone_stats.pkl\".format(subject_id))"
   ]
  },
  {
   "cell_type": "markdown",
   "id": "e2edd2f4-40b4-4f7e-aeaa-0657f39f525a",
   "metadata": {},
   "source": [
    "### selection_pressure"
   ]
  },
  {
   "cell_type": "code",
   "execution_count": null,
   "id": "0c59959a-86e7-4c03-942d-79889ac57c45",
   "metadata": {},
   "outputs": [],
   "source": [
    "for subject_id in subjects_dict.keys():\n",
    "    print(\"Saving selection_pressure for id: \", subjects_dict[subject_id] + \"...\")\n",
    "    \n",
    "    ###selection_pressure table does not have subject_id column so must filter by clone_id for each subject\n",
    "    subject_clone_stats = pd.read_pickle(r\"/path_to_lp16_data_folder/clone_stats/{}_clone_stats.pkl\".format(subject_id))\n",
    "    subject_clones = subject_clone_stats['clone_id'].unique().tolist()\n",
    "    subject_clones = tuple(subject_clones) \n",
    "    placeholders = \", \".join([\"%s\"] * len(subject_clones))\n",
    "\n",
    "    query = \"select * from selection_pressure where clone_id in ({})\".format(placeholders)\n",
    "    \n",
    "    result = pd.read_sql_query(query, sql_engine, params=subject_clones)\n",
    "    result.to_pickle(r\"/path_to_lp16_data_folder/selection_pressure/{}_selection_pressure.pkl\".format(subject_id))"
   ]
  }
 ],
 "metadata": {
  "kernelspec": {
   "display_name": "Python 3 (ipykernel)",
   "language": "python",
   "name": "python3"
  },
  "language_info": {
   "codemirror_mode": {
    "name": "ipython",
    "version": 3
   },
   "file_extension": ".py",
   "mimetype": "text/x-python",
   "name": "python",
   "nbconvert_exporter": "python",
   "pygments_lexer": "ipython3",
   "version": "3.9.20"
  }
 },
 "nbformat": 4,
 "nbformat_minor": 5
}
